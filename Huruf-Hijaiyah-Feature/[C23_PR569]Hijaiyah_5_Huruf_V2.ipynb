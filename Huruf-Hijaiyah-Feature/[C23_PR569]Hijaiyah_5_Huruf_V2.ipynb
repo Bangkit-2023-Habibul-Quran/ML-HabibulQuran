{
  "cells": [
    {
      "cell_type": "code",
      "source": [
        "!pip install resampy"
      ],
      "metadata": {
        "colab": {
          "base_uri": "https://localhost:8080/"
        },
        "id": "I9iXNzdDPSmG",
        "outputId": "66f41052-8e22-461a-d9d8-f5a0c95a7189"
      },
      "execution_count": 4,
      "outputs": [
        {
          "output_type": "stream",
          "name": "stdout",
          "text": [
            "Looking in indexes: https://pypi.org/simple, https://us-python.pkg.dev/colab-wheels/public/simple/\n",
            "Collecting resampy\n",
            "  Downloading resampy-0.4.2-py3-none-any.whl (3.1 MB)\n",
            "\u001b[2K     \u001b[90m━━━━━━━━━━━━━━━━━━━━━━━━━━━━━━━━━━━━━━━━\u001b[0m \u001b[32m3.1/3.1 MB\u001b[0m \u001b[31m19.1 MB/s\u001b[0m eta \u001b[36m0:00:00\u001b[0m\n",
            "\u001b[?25hRequirement already satisfied: numpy>=1.17 in /usr/local/lib/python3.10/dist-packages (from resampy) (1.22.4)\n",
            "Requirement already satisfied: numba>=0.53 in /usr/local/lib/python3.10/dist-packages (from resampy) (0.56.4)\n",
            "Requirement already satisfied: llvmlite<0.40,>=0.39.0dev0 in /usr/local/lib/python3.10/dist-packages (from numba>=0.53->resampy) (0.39.1)\n",
            "Requirement already satisfied: setuptools in /usr/local/lib/python3.10/dist-packages (from numba>=0.53->resampy) (67.7.2)\n",
            "Installing collected packages: resampy\n",
            "Successfully installed resampy-0.4.2\n"
          ]
        }
      ]
    },
    {
      "cell_type": "markdown",
      "metadata": {
        "id": "33A7Kz2SiW1l"
      },
      "source": [
        "# Load model H5 dan input .wav"
      ]
    },
    {
      "cell_type": "code",
      "execution_count": 4,
      "metadata": {
        "colab": {
          "base_uri": "https://localhost:8080/"
        },
        "id": "f2GOav0Ahj3N",
        "outputId": "f6766752-73d7-432a-b982-486f9bd21524"
      },
      "outputs": [
        {
          "output_type": "stream",
          "name": "stdout",
          "text": [
            "1/1 [==============================] - 0s 153ms/step\n",
            "Path: /content/drive/MyDrive/Product_Capstone_Materials/Alphabet Classification (Multi-Class)/2_8_Hamzah_T162.wav\n",
            "Predicted label: hamzah\n"
          ]
        }
      ],
      "source": [
        "import os\n",
        "import numpy as np\n",
        "import pandas as pd\n",
        "import tensorflow as tf\n",
        "from tensorflow.keras.models import load_model\n",
        "import librosa\n",
        "import random\n",
        "from sklearn.preprocessing import LabelEncoder\n",
        "from tensorflow.keras.utils import to_categorical\n",
        "\n",
        "\n",
        "# Fungsi untuk ekstraksi fitur menggunakan MFCC\n",
        "def extract_mfcc(file_path, n_mfcc=13, max_len=60):\n",
        "    audio, sample_rate = librosa.load(file_path, res_type='kaiser_fast')\n",
        "    mfcc = librosa.feature.mfcc(y=audio, sr=sample_rate, n_mfcc=n_mfcc)\n",
        "    if (max_len > mfcc.shape[1]):\n",
        "        pad_width = max_len - mfcc.shape[1]\n",
        "        mfcc = np.pad(mfcc, pad_width=((0, 0), (0, pad_width)), mode='constant')\n",
        "    else:\n",
        "        mfcc = mfcc[:, :max_len]\n",
        "    return mfcc\n",
        "\n",
        "# Fungsi untuk ekstraksi fitur menggunakan Spectrogram\n",
        "def extract_spectrogram(file_path, n_mels=128, n_fft=2048, hop_length=512, max_len=60):\n",
        "    audio, sample_rate = librosa.load(file_path, res_type='kaiser_fast')\n",
        "    spectrogram = librosa.feature.melspectrogram(y=audio, sr=sample_rate, n_mels=n_mels, n_fft=n_fft, hop_length=hop_length)\n",
        "    spectrogram = librosa.power_to_db(spectrogram)\n",
        "    if (max_len > spectrogram.shape[1]):\n",
        "        pad_width = max_len - spectrogram.shape[1]\n",
        "        spectrogram = np.pad(spectrogram, pad_width=((0, 0), (0, pad_width)), mode='constant')\n",
        "    else:\n",
        "        spectrogram = spectrogram[:, :max_len]\n",
        "    return spectrogram\n",
        "\n",
        "# Load data dari file CSV\n",
        "data = pd.read_csv('/content/drive/MyDrive/Product_Capstone_Materials/filtered_5class.csv')\n",
        "\n",
        "# Memuat model yang telah disimpan\n",
        "model = load_model('/content/drive/MyDrive/modelhijaiyah.h5')\n",
        "\n",
        "# Memilih satu data audio secara acak\n",
        "random_index = random.randint(0, len(data) - 1)\n",
        "file_path = \"/content/drive/MyDrive/Product_Capstone_Materials/Alphabet Classification (Multi-Class)/2_8_Hamzah_T162.wav\"\n",
        "\n",
        "# Ekstraksi fitur MFCC dan Spectrogram dari data audio\n",
        "mfcc_features = extract_mfcc(file_path)\n",
        "spectrogram_features = extract_spectrogram(file_path)\n",
        "\n",
        "# Ubah dimensi data untuk model CNN\n",
        "mfcc_features = mfcc_features[np.newaxis, ..., np.newaxis]\n",
        "spectrogram_features = spectrogram_features[np.newaxis, ..., np.newaxis]\n",
        "\n",
        "# Prediksi label menggunakan model\n",
        "predictions = model.predict([mfcc_features, spectrogram_features])\n",
        "\n",
        "# Encode label menjadi one-hot vector\n",
        "label_encoder = LabelEncoder()\n",
        "y = to_categorical(label_encoder.fit_transform(data['label']))\n",
        "\n",
        "\n",
        "# Decode label menggunakan label_encoder\n",
        "predicted_label = label_encoder.inverse_transform([np.argmax(predictions)])[0]\n",
        "\n",
        "print('Path:', file_path)\n",
        "print('Predicted label:', predicted_label)"
      ]
    },
    {
      "cell_type": "code",
      "execution_count": null,
      "metadata": {
        "colab": {
          "base_uri": "https://localhost:8080/"
        },
        "id": "k514SHD3WjgQ",
        "outputId": "862f3f2b-7d67-4ccf-d9b7-9841b07c06dd"
      },
      "outputs": [
        {
          "name": "stdout",
          "output_type": "stream",
          "text": [
            "1/1 [==============================] - 0s 39ms/step\n",
            "Path: /content/drive/MyDrive/Product_Capstone_Materials/Alphabet Classification (Multi-Class)/0_0_Alif_T220.wav\n",
            "Predicted label: alif\n"
          ]
        }
      ],
      "source": [
        "import random\n",
        "\n",
        "# Memilih satu data audio secara acak\n",
        "random_index = random.randint(0, len(data) - 1)\n",
        "file_path = data['Path'].iloc[random_index]\n",
        "\n",
        "# Ekstraksi fitur MFCC dan Spectrogram dari data audio\n",
        "mfcc_features = extract_mfcc(file_path)\n",
        "spectrogram_features = extract_spectrogram(file_path)\n",
        "\n",
        "# Ubah dimensi data untuk model CNN\n",
        "mfcc_features = mfcc_features[np.newaxis, ..., np.newaxis]\n",
        "spectrogram_features = spectrogram_features[np.newaxis, ..., np.newaxis]\n",
        "\n",
        "# Prediksi label menggunakan model\n",
        "predictions = model.predict([mfcc_features, spectrogram_features])\n",
        "\n",
        "# Decode label menggunakan label_encoder\n",
        "predicted_label = label_encoder.inverse_transform([np.argmax(predictions)])[0]\n",
        "\n",
        "print('Path:', file_path)\n",
        "print('Predicted label:', predicted_label)\n"
      ]
    },
    {
      "cell_type": "code",
      "execution_count": null,
      "metadata": {
        "colab": {
          "base_uri": "https://localhost:8080/"
        },
        "id": "E7lREdTvWt0f",
        "outputId": "1f01d997-3ea7-4287-aee2-521d1aff0e40"
      },
      "outputs": [
        {
          "name": "stdout",
          "output_type": "stream",
          "text": [
            "1/1 [==============================] - 0s 41ms/step\n",
            "Path: /content/drive/MyDrive/Product_Capstone_Materials/Alphabet Classification (Multi-Class)/2_8_Hamzah_T212.wav\n",
            "Predicted label: hamzah\n"
          ]
        }
      ],
      "source": [
        "import random\n",
        "\n",
        "# Memilih satu data audio secara acak\n",
        "random_index = random.randint(0, len(data) - 1)\n",
        "file_path = data['Path'].iloc[random_index]\n",
        "\n",
        "# Ekstraksi fitur MFCC dan Spectrogram dari data audio\n",
        "mfcc_features = extract_mfcc(file_path)\n",
        "spectrogram_features = extract_spectrogram(file_path)\n",
        "\n",
        "# Ubah dimensi data untuk model CNN\n",
        "mfcc_features = mfcc_features[np.newaxis, ..., np.newaxis]\n",
        "spectrogram_features = spectrogram_features[np.newaxis, ..., np.newaxis]\n",
        "\n",
        "# Prediksi label menggunakan model\n",
        "predictions = model.predict([mfcc_features, spectrogram_features])\n",
        "\n",
        "# Decode label menggunakan label_encoder\n",
        "predicted_label = label_encoder.inverse_transform([np.argmax(predictions)])[0]\n",
        "\n",
        "print('Path:', file_path)\n",
        "print('Predicted label:', predicted_label)\n"
      ]
    },
    {
      "cell_type": "code",
      "execution_count": null,
      "metadata": {
        "colab": {
          "base_uri": "https://localhost:8080/"
        },
        "id": "YUvRjN6vWwlJ",
        "outputId": "67257e4b-963a-42f1-d81a-f4f34be9d18f"
      },
      "outputs": [
        {
          "name": "stdout",
          "output_type": "stream",
          "text": [
            "1/1 [==============================] - 0s 37ms/step\n",
            "Path: /content/drive/MyDrive/Product_Capstone_Materials/Alphabet Classification (Multi-Class)/2_4_Taj_Noon_T (20).wav\n",
            "Predicted label: noon\n"
          ]
        }
      ],
      "source": [
        "import random\n",
        "\n",
        "# Memilih satu data audio secara acak\n",
        "random_index = random.randint(0, len(data) - 1)\n",
        "file_path = data['Path'].iloc[random_index]\n",
        "\n",
        "# Ekstraksi fitur MFCC dan Spectrogram dari data audio\n",
        "mfcc_features = extract_mfcc(file_path)\n",
        "spectrogram_features = extract_spectrogram(file_path)\n",
        "\n",
        "# Ubah dimensi data untuk model CNN\n",
        "mfcc_features = mfcc_features[np.newaxis, ..., np.newaxis]\n",
        "spectrogram_features = spectrogram_features[np.newaxis, ..., np.newaxis]\n",
        "\n",
        "# Prediksi label menggunakan model\n",
        "predictions = model.predict([mfcc_features, spectrogram_features])\n",
        "\n",
        "# Decode label menggunakan label_encoder\n",
        "predicted_label = label_encoder.inverse_transform([np.argmax(predictions)])[0]\n",
        "\n",
        "print('Path:', file_path)\n",
        "print('Predicted label:', predicted_label)"
      ]
    },
    {
      "cell_type": "code",
      "execution_count": null,
      "metadata": {
        "colab": {
          "base_uri": "https://localhost:8080/"
        },
        "id": "MgtquIEwWydG",
        "outputId": "58b92186-f9ad-435b-a19f-9ba33ad4c15e"
      },
      "outputs": [
        {
          "name": "stdout",
          "output_type": "stream",
          "text": [
            "1/1 [==============================] - 0s 87ms/step\n",
            "Path: /content/drive/MyDrive/Product_Capstone_Materials/Alphabet Classification (Multi-Class)/1_5_Taj_Tua_T (66).wav\n",
            "Predicted label: tua\n"
          ]
        }
      ],
      "source": [
        "import random\n",
        "\n",
        "# Memilih satu data audio secara acak\n",
        "random_index = random.randint(0, len(data) - 1)\n",
        "file_path = data['Path'].iloc[random_index]\n",
        "\n",
        "# Ekstraksi fitur MFCC dan Spectrogram dari data audio\n",
        "mfcc_features = extract_mfcc(file_path)\n",
        "spectrogram_features = extract_spectrogram(file_path)\n",
        "\n",
        "# Ubah dimensi data untuk model CNN\n",
        "mfcc_features = mfcc_features[np.newaxis, ..., np.newaxis]\n",
        "spectrogram_features = spectrogram_features[np.newaxis, ..., np.newaxis]\n",
        "\n",
        "# Prediksi label menggunakan model\n",
        "predictions = model.predict([mfcc_features, spectrogram_features])\n",
        "\n",
        "# Decode label menggunakan label_encoder\n",
        "predicted_label = label_encoder.inverse_transform([np.argmax(predictions)])[0]\n",
        "\n",
        "print('Path:', file_path)\n",
        "print('Predicted label:', predicted_label)"
      ]
    },
    {
      "cell_type": "code",
      "execution_count": null,
      "metadata": {
        "colab": {
          "base_uri": "https://localhost:8080/"
        },
        "id": "ohSHiBVXW0MH",
        "outputId": "ee415f53-d233-42de-d0aa-cc0dc13af74c"
      },
      "outputs": [
        {
          "name": "stdout",
          "output_type": "stream",
          "text": [
            "1/1 [==============================] - 0s 45ms/step\n",
            "Path: /content/drive/MyDrive/Product_Capstone_Materials/Alphabet Classification (Multi-Class)/2_4_Taj_Noon_T (3).wav\n",
            "Predicted label: noon\n"
          ]
        }
      ],
      "source": [
        "import random\n",
        "\n",
        "# Memilih satu data audio secara acak\n",
        "random_index = random.randint(0, len(data) - 1)\n",
        "file_path = data['Path'].iloc[random_index]\n",
        "\n",
        "# Ekstraksi fitur MFCC dan Spectrogram dari data audio\n",
        "mfcc_features = extract_mfcc(file_path)\n",
        "spectrogram_features = extract_spectrogram(file_path)\n",
        "\n",
        "# Ubah dimensi data untuk model CNN\n",
        "mfcc_features = mfcc_features[np.newaxis, ..., np.newaxis]\n",
        "spectrogram_features = spectrogram_features[np.newaxis, ..., np.newaxis]\n",
        "\n",
        "# Prediksi label menggunakan model\n",
        "predictions = model.predict([mfcc_features, spectrogram_features])\n",
        "\n",
        "# Decode label menggunakan label_encoder\n",
        "predicted_label = label_encoder.inverse_transform([np.argmax(predictions)])[0]\n",
        "\n",
        "print('Path:', file_path)\n",
        "print('Predicted label:', predicted_label)\n"
      ]
    },
    {
      "cell_type": "code",
      "execution_count": null,
      "metadata": {
        "colab": {
          "base_uri": "https://localhost:8080/"
        },
        "id": "EZ5swyD-Ypo8",
        "outputId": "0aedaa2b-db0b-449e-f8f2-3e2b433e8892"
      },
      "outputs": [
        {
          "name": "stdout",
          "output_type": "stream",
          "text": [
            "1/1 [==============================] - 0s 127ms/step\n",
            "Path: /content/drive/MyDrive/Product_Capstone_Materials/Alphabet Classification (Multi-Class)/0_0_Taj_Alif_T (36).wav\n",
            "Predicted label: alif\n"
          ]
        }
      ],
      "source": [
        "import random\n",
        "\n",
        "# Memilih satu data audio secara acak\n",
        "random_index = random.randint(0, len(data) - 1)\n",
        "file_path = data['Path'].iloc[random_index]\n",
        "\n",
        "# Ekstraksi fitur MFCC dan Spectrogram dari data audio\n",
        "mfcc_features = extract_mfcc(file_path)\n",
        "spectrogram_features = extract_spectrogram(file_path)\n",
        "\n",
        "# Ubah dimensi data untuk model CNN\n",
        "mfcc_features = mfcc_features[np.newaxis, ..., np.newaxis]\n",
        "spectrogram_features = spectrogram_features[np.newaxis, ..., np.newaxis]\n",
        "\n",
        "# Prediksi label menggunakan model\n",
        "predictions = model.predict([mfcc_features, spectrogram_features])\n",
        "\n",
        "# Decode label menggunakan label_encoder\n",
        "predicted_label = label_encoder.inverse_transform([np.argmax(predictions)])[0]\n",
        "\n",
        "print('Path:', file_path)\n",
        "print('Predicted label:', predicted_label)"
      ]
    },
    {
      "cell_type": "code",
      "execution_count": null,
      "metadata": {
        "colab": {
          "base_uri": "https://localhost:8080/"
        },
        "id": "SjUUytUUYqlU",
        "outputId": "e6798ba4-d58f-4d45-ce48-1ca31bafe2a7"
      },
      "outputs": [
        {
          "name": "stdout",
          "output_type": "stream",
          "text": [
            "1/1 [==============================] - 0s 73ms/step\n",
            "Path: /content/drive/MyDrive/Product_Capstone_Materials/Alphabet Classification (Multi-Class)/0_0_Taj_Alif_T (6).wav\n",
            "Predicted label: alif\n"
          ]
        }
      ],
      "source": [
        "import random\n",
        "\n",
        "# Memilih satu data audio secara acak\n",
        "random_index = random.randint(0, len(data) - 1)\n",
        "file_path = data['Path'].iloc[random_index]\n",
        "\n",
        "# Ekstraksi fitur MFCC dan Spectrogram dari data audio\n",
        "mfcc_features = extract_mfcc(file_path)\n",
        "spectrogram_features = extract_spectrogram(file_path)\n",
        "\n",
        "# Ubah dimensi data untuk model CNN\n",
        "mfcc_features = mfcc_features[np.newaxis, ..., np.newaxis]\n",
        "spectrogram_features = spectrogram_features[np.newaxis, ..., np.newaxis]\n",
        "\n",
        "# Prediksi label menggunakan model\n",
        "predictions = model.predict([mfcc_features, spectrogram_features])\n",
        "\n",
        "# Decode label menggunakan label_encoder\n",
        "predicted_label = label_encoder.inverse_transform([np.argmax(predictions)])[0]\n",
        "\n",
        "print('Path:', file_path)\n",
        "print('Predicted label:', predicted_label)"
      ]
    },
    {
      "cell_type": "code",
      "source": [],
      "metadata": {
        "id": "onZv8BqkPrXH"
      },
      "execution_count": null,
      "outputs": []
    }
  ],
  "metadata": {
    "colab": {
      "provenance": []
    },
    "kernelspec": {
      "display_name": "Python 3",
      "name": "python3"
    },
    "language_info": {
      "name": "python"
    }
  },
  "nbformat": 4,
  "nbformat_minor": 0
}